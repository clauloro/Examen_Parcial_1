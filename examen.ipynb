{
 "cells": [
  {
   "cell_type": "markdown",
   "metadata": {},
   "source": [
    "### Examen Parcial 1: Principios y Patrones del Desarrollo de Software"
   ]
  },
  {
   "cell_type": "markdown",
   "metadata": {},
   "source": [
    "__Pregunta 1 (1 Punto):__\n",
    "\n",
    "Explique en detalle el principio SOLID \"Open/Closed\" y proporcione un ejemplo de código en Python donde este principio se ha violado y cómo puede corregirlo.\n"
   ]
  },
  {
   "cell_type": "markdown",
   "metadata": {},
   "source": [
    "El principio __Open/Closed__ es uno de los cinco principios SOLID en el diseño de software. Establece que una clase, módulo o función debe estar abierta para extensión, pero cerrada para modificación. Esto significa que el comportamiento de una entidaddebe poder ampliarse sin necesidad de cambiar el código fuente existente, reduciendo así el riesgo de introducir errores al modificar el sistema."
   ]
  },
  {
   "cell_type": "markdown",
   "metadata": {},
   "source": [
    "__Ejemplo de violación del principio Open/Closed__"
   ]
  },
  {
   "cell_type": "markdown",
   "metadata": {},
   "source": [
    "La forma de violar el principio Open/Closed sería crear una clase AreaCalculator que verifique la forma y calcule el área en función de ello."
   ]
  },
  {
   "cell_type": "code",
   "execution_count": 3,
   "metadata": {},
   "outputs": [],
   "source": [
    "class AreaCalculator:\n",
    "    def calculate_area(self, shape):\n",
    "        if isinstance(shape, Circle):\n",
    "            return 3.14159 * shape.radius ** 2\n",
    "        elif isinstance(shape, Rectangle):\n",
    "            return shape.width * shape.height\n",
    "        # Si se agrega otra forma, necesitamos modificar este método\n",
    "\n",
    "class Circle:\n",
    "    def __init__(self, radius):\n",
    "        self.radius = radius\n",
    "\n",
    "class Rectangle:\n",
    "    def __init__(self, width, height):\n",
    "        self.width = width\n",
    "        self.height = height"
   ]
  },
  {
   "cell_type": "markdown",
   "metadata": {},
   "source": [
    "En el caso de que queramos agregar una nueva forma, como un triángulo tendríamos q modificar el método __calculate_area__ de la clase __AreaCalculator__. Esto va en contra del principio porque el sistema no esta cerrado para modificaciones."
   ]
  },
  {
   "cell_type": "markdown",
   "metadata": {},
   "source": [
    "__Corrección: Aplicando el Principio Open/Closed__"
   ]
  },
  {
   "cell_type": "markdown",
   "metadata": {},
   "source": [
    "Podemos crregir estaviolación utilizando polimorfismo. En lugar de verificar el tipo de cada forma, hacemos que cada forma implemente su propio método __calculate_area__. Así cuando agregamos una nueva forma, simplemmente definimos su propio método para calcular el áreasin ncesidad de modificar la clase __AreaCalculator__."
   ]
  },
  {
   "cell_type": "code",
   "execution_count": 4,
   "metadata": {},
   "outputs": [],
   "source": [
    "from abc import ABC, abstractmethod\n",
    "\n",
    "class Shape(ABC):\n",
    "    @abstractmethod\n",
    "    def calculate_area(self):\n",
    "        pass\n",
    "\n",
    "class Circle(Shape):\n",
    "    def __init__(self, radius):\n",
    "        self.radius = radius\n",
    "\n",
    "    def calculate_area(self):\n",
    "        return 3.14159 * self.radius ** 2\n",
    "\n",
    "class Rectangle(Shape):\n",
    "    def __init__(self, width, height):\n",
    "        self.width = width\n",
    "        self.height = height\n",
    "\n",
    "    def calculate_area(self):\n",
    "        return self.width * self.height\n",
    "\n",
    "# Nuevo ejemplo de una forma: Triángulo\n",
    "class Triangle(Shape):\n",
    "    def __init__(self, base, height):\n",
    "        self.base = base\n",
    "        self.height = height\n",
    "\n",
    "    def calculate_area(self):\n",
    "        return 0.5 * self.base * self.height\n",
    "\n",
    "class AreaCalculator:\n",
    "    def calculate_area(self, shape: Shape):\n",
    "        return shape.calculate_area()\n"
   ]
  },
  {
   "cell_type": "markdown",
   "metadata": {},
   "source": [
    "En esta versión, __AreaCalculator__ ya no necesita modificarse si se agregan nuevasformas. Cada clase de forma se encarga de su propio cálculo de área a través del método __calculate_area__. Esto hace que el sistema esté cerrado para modificación (no necesitamos cambiar __AreaCalculator__) pero abierto para extensión (podemos agregar nuevas formas sin problemas)."
   ]
  },
  {
   "cell_type": "markdown",
   "metadata": {},
   "source": [
    "__Pregunta 2 (1 Punto):__\n",
    "\n",
    "Describa el patrón de diseño \"Factory\". ¿En qué situaciones sería útil este patrón? Proporcione un ejemplo de cómo implementaría este patrón en Python para un problema relacionado con la ingeniería matemática, como la creación de diferentes tipos de funciones matemáticas."
   ]
  },
  {
   "cell_type": "markdown",
   "metadata": {},
   "source": [
    "El patrón de diseño Factory es un patrón creacional que proporciona una interfaz para crear objetos en una superclase, pero permite a las subclases alterar el tipo de objetos que se crearán. Esto es útil cuando el proceso de creación es complejo, depende de ciertas condiciones o se deben instanciar diferentes clases en función de los requisitos sin acoplar el código al tipo específico de objeto que se está creando. En lugar de crear objetos directamente con el operador __new__, la factoría encapsul la creación y delega la lógica de construcción a subclases o métodos específicos. "
   ]
  },
  {
   "cell_type": "markdown",
   "metadata": {},
   "source": [
    "__Situaciones donde es útil el Patrón Factory__"
   ]
  },
  {
   "cell_type": "markdown",
   "metadata": {},
   "source": [
    "Este patrón es útil en situaciones donde:\n",
    "\n",
    "1.La creación de objetos requiere lógica adicional o depende de condiciones específicas.\n",
    "\n",
    "2.Se necesita crear objetos de distintas clases que comparten una interfaz común.\n",
    "\n",
    "3.Queremos desacoplar el código del tipo específico de las instancias creadas para facilitar la extensibilidad y mantenibilidad.\n",
    "\n",
    "Por ejemplo, en ingeniería matemática, se pueden crear objetos que representan distintas funciones matemáticas (como funciones polinómicas, trigonométricas o exponenciales), y el usuario puede seleccionar el tipo de función que desea crear en función de su necesidad."
   ]
  },
  {
   "cell_type": "markdown",
   "metadata": {},
   "source": [
    "__Ejemplo de Implementación del Patrón Factory__"
   ]
  },
  {
   "cell_type": "markdown",
   "metadata": {},
   "source": [
    "Supongamos que necesitamos una fábrica para crear distintos tipos de funciones matemáticas: Polinómica, Exponencial y Trigonométrica. Cada función puede implementar una interfaz común para evaluar la función en un punto dado."
   ]
  },
  {
   "cell_type": "code",
   "execution_count": 5,
   "metadata": {},
   "outputs": [
    {
     "name": "stdout",
     "output_type": "stream",
     "text": [
      "Polinómica (x=2): 9\n",
      "Exponencial (x=3): 8\n",
      "Trigonométrica (sin(x=π/2)): 1.0\n"
     ]
    }
   ],
   "source": [
    "from abc import ABC, abstractmethod\n",
    "import math\n",
    "\n",
    "# Interfaz común para las funciones matemáticas\n",
    "class MathFunction(ABC):\n",
    "    @abstractmethod\n",
    "    def evaluate(self, x):\n",
    "        pass\n",
    "\n",
    "# Implementación para una función polinómica \n",
    "class PolynomialFunction(MathFunction):\n",
    "    def __init__(self, coefficients):\n",
    "        self.coefficients = coefficients  \n",
    "\n",
    "    def evaluate(self, x):\n",
    "        return sum(c * x**i for i, c in enumerate(self.coefficients))\n",
    "\n",
    "# Implementación para una función exponencial \n",
    "class ExponentialFunction(MathFunction):\n",
    "    def __init__(self, base=math.e):\n",
    "        self.base = base\n",
    "\n",
    "    def evaluate(self, x):\n",
    "        return self.base ** x\n",
    "\n",
    "# Implementación para una función trigonométrica \n",
    "class TrigonometricFunction(MathFunction):\n",
    "    def __init__(self, func_type='sin'):\n",
    "        self.func_type = func_type\n",
    "\n",
    "    def evaluate(self, x):\n",
    "        if self.func_type == 'sin':\n",
    "            return math.sin(x)\n",
    "        elif self.func_type == 'cos':\n",
    "            return math.cos(x)\n",
    "        elif self.func_type == 'tan':\n",
    "            return math.tan(x)\n",
    "        else:\n",
    "            raise ValueError(\"Función trigonométrica desconocida\")\n",
    "\n",
    "# Fábrica para crear funciones matemáticas\n",
    "class MathFunctionFactory:\n",
    "    @staticmethod\n",
    "    def create_function(function_type, **kwargs):\n",
    "        if function_type == 'polynomial':\n",
    "            return PolynomialFunction(kwargs.get('coefficients', [0]))\n",
    "        elif function_type == 'exponential':\n",
    "            return ExponentialFunction(kwargs.get('base', math.e))\n",
    "        elif function_type == 'trigonometric':\n",
    "            return TrigonometricFunction(kwargs.get('func_type', 'sin'))\n",
    "        else:\n",
    "            raise ValueError(\"Tipo de función desconocido\")\n",
    "\n",
    "# Ejemplo de uso de la fábrica para crear y evaluar funciones\n",
    "polynomial_func = MathFunctionFactory.create_function('polynomial', coefficients=[1, 2, 1])\n",
    "print(\"Polinómica (x=2):\", polynomial_func.evaluate(2))  \n",
    "\n",
    "exponential_func = MathFunctionFactory.create_function('exponential', base=2)\n",
    "print(\"Exponencial (x=3):\", exponential_func.evaluate(3))  \n",
    "\n",
    "trig_func = MathFunctionFactory.create_function('trigonometric', func_type='sin')\n",
    "print(\"Trigonométrica (sin(x=π/2)):\", trig_func.evaluate(math.pi / 2))  \n"
   ]
  },
  {
   "cell_type": "markdown",
   "metadata": {},
   "source": [
    "Esta implementación permite agregar nuevos tipos de funciones matemáticas sin modificar el código del cliente o de la fábrica, facilitando la extensibilidad y el mantenimiento del sistema conforme a las necesidades de cálculo."
   ]
  },
  {
   "cell_type": "markdown",
   "metadata": {},
   "source": [
    "__Pregunta 3(1 Punto):__\n",
    "\n",
    "Explique el antipatrón \"God Object\". ¿Por qué es perjudicial este antipatrón y qué problemas puede causar en el desarrollo de software? Proporcione un ejemplo de un \"God Object\" en un contexto de ingeniería matemática y explique cómo podría refactorizarlo para evitar este antipatrón."
   ]
  },
  {
   "cell_type": "markdown",
   "metadata": {},
   "source": [
    "El antipatrón \"God Object\" se refiere a una clase que centraliza demasiadas responsabilidades o conocimiento del sistema, haciéndola extremadamente compleja y difícil de mantener. Este tipo de objeto es \"omnisciente\", ya que contiene atributos, métodos, y lógica que en realidad deberían estar distribuidos entre varias clases especializadas. Es un enfoque contrario al diseño modular, donde cada clase tiene una responsabilidad bien definida."
   ]
  },
  {
   "cell_type": "markdown",
   "metadata": {},
   "source": [
    "__¿Por Qué es Perjudicial el Antipatrón \"God Object\"?__"
   ]
  },
  {
   "cell_type": "markdown",
   "metadata": {},
   "source": [
    "Un \"God Object\" tiene varios efectos negativos en el desarrollo de software:\n",
    "\n",
    "1.Dificultad en el Mantenimiento: Como concentra muchas funcionalidades, cualquier cambio en sus métodos o atributos puede impactar en diversas áreas del sistema, lo que aumenta el riesgo de errores y hace que el código sea más difícil de probar y depurar.\n",
    "\n",
    "2.Baja Flexibilidad y Reutilización: Es difícil reutilizar partes del código en otros contextos, ya que los métodos de un \"God Object\" suelen depender mucho unos de otros.\n",
    "\n",
    "3.Escalabilidad Limitada: Este tipo de diseño no es escalable. A medida que el sistema crece, el \"God Object\" se vuelve más complejo, lo que reduce la capacidad de adaptación y extensión del sistema.\n",
    "\n",
    "4.Dificultad para Colaboración en Equipos: Los miembros del equipo que trabajan en áreas distintas pueden verse obligados a modificar el mismo archivo, lo que aumenta el riesgo de conflictos y errores de integración."
   ]
  },
  {
   "cell_type": "markdown",
   "metadata": {},
   "source": [
    "__Ejemplo de un \"God Object\" en Ingeniería Matemática__"
   ]
  },
  {
   "cell_type": "markdown",
   "metadata": {},
   "source": [
    "Un \"God Object\" en este contexto podría verse como una clase MathProcessor que tiene métodos para todas las operaciones matemáticas y transforma distintos tipos de datos."
   ]
  },
  {
   "cell_type": "code",
   "execution_count": 6,
   "metadata": {},
   "outputs": [],
   "source": [
    "class MathProcessor:\n",
    "    def __init__(self):\n",
    "        # Atributos para cada tipo de cálculo\n",
    "        self.matrix = None\n",
    "        self.vector = None\n",
    "        self.data = None\n",
    "        self.shape = None\n",
    "\n",
    "    # Métodos para álgebra lineal\n",
    "    def calculate_determinant(self):\n",
    "        # Cálculo del determinante\n",
    "        pass\n",
    "\n",
    "    def solve_linear_equation(self):\n",
    "        # Resolver ecuaciones lineales\n",
    "        pass\n",
    "\n",
    "    # Métodos para transformaciones geométricas\n",
    "    def translate(self):\n",
    "        # Traslación de una forma\n",
    "        pass\n",
    "\n",
    "    def rotate(self):\n",
    "        # Rotación de una forma\n",
    "        pass\n",
    "\n",
    "    # Métodos estadísticos\n",
    "    def calculate_mean(self):\n",
    "        # Calcular la media\n",
    "        pass\n",
    "\n",
    "    def calculate_standard_deviation(self):\n",
    "        # Calcular la desviación estándar\n",
    "        pass\n"
   ]
  },
  {
   "cell_type": "markdown",
   "metadata": {},
   "source": [
    "En este caso, la clase MathProcessor centraliza una gran cantidad de funcionalidades, lo que la convierte en un \"God Object\". Este enfoque genera un código difícil de mantener, de probar y propenso a errores."
   ]
  },
  {
   "cell_type": "markdown",
   "metadata": {},
   "source": [
    "__Refactorización para Evitar el Antipatrón \"God Object\"__"
   ]
  },
  {
   "cell_type": "markdown",
   "metadata": {},
   "source": [
    "Podemos refactorizar este \"God Object\" dividiendo sus responsabilidades en clases más pequeñas y especializadas según el tipo de cálculo. Cada clase tendrá una única responsabilidad y estará enfocada en una tarea específica, lo que sigue el principio de responsabilidad única."
   ]
  },
  {
   "cell_type": "code",
   "execution_count": 8,
   "metadata": {},
   "outputs": [],
   "source": [
    "# Clase especializada para álgebra lineal\n",
    "class LinearAlgebraProcessor:\n",
    "    def __init__(self, matrix=None, vector=None):\n",
    "        self.matrix = matrix\n",
    "        self.vector = vector\n",
    "\n",
    "    def calculate_determinant(self):\n",
    "        # Implementación del cálculo del determinante\n",
    "        pass\n",
    "\n",
    "    def solve_linear_equation(self):\n",
    "        # Implementación para resolver ecuaciones lineales\n",
    "        pass\n",
    "\n",
    "# Clase especializada para transformaciones geométricas\n",
    "class GeometryProcessor:\n",
    "    def __init__(self, shape):\n",
    "        self.shape = shape\n",
    "\n",
    "    def translate(self):\n",
    "        # Implementación para traslación\n",
    "        pass\n",
    "\n",
    "    def rotate(self):\n",
    "        # Implementación para rotación\n",
    "        pass\n",
    "\n",
    "# Clase especializada para cálculos estadísticos\n",
    "class StatisticsProcessor:\n",
    "    def __init__(self, data):\n",
    "        self.data = data\n",
    "\n",
    "    def calculate_mean(self):\n",
    "        # Implementación para calcular la media\n",
    "        pass\n",
    "\n",
    "    def calculate_standard_deviation(self):\n",
    "        # Implementación para calcular la desviación estándar\n",
    "        pass\n"
   ]
  },
  {
   "cell_type": "markdown",
   "metadata": {},
   "source": [
    "Esta refactorización elimina el \"God Object\", simplifica la estructura del sistema y facilita la colaboración y la escalabilidad en proyectos de ingeniería matemática."
   ]
  },
  {
   "cell_type": "markdown",
   "metadata": {},
   "source": [
    "__Pregunta 4 (1 Punto):__\n",
    "\n",
    "Los principios DRY (Don't Repeat Yourself) y KISS (Keep It Simple, Stupid) son fundamentales para escribir código de alta calidad. Proporcione un ejemplo de un fragmento de código Python que viole estos principios. Describa cómo lo refactorizaría para adherirse a los principios DRY y KISS."
   ]
  },
  {
   "cell_type": "markdown",
   "metadata": {},
   "source": [
    "\n",
    "Los principios DRY (Don't Repeat Yourself) y KISS (Keep It Simple, Stupid) son esenciales para escribir código limpio y fácil de mantener.\n",
    "\n",
    "1.__DRY (Don't Repeat Yourself):__ Este principio establece que debemos evitar la duplicación de código, ya que el código duplicado puede dificultar el mantenimiento. Si se repite código en varias partes de una aplicación, cualquier cambio deberá hacerse en varios lugares, lo cual es propenso a errores.\n",
    "\n",
    "2.__KISS (Keep It Simple, Stupid):__ Este principio fomenta la simplicidad en el código. La idea es que el código debe ser lo más simple posible, sin añadir complejidad innecesaria, lo que facilita la comprensión, el mantenimiento y la extensión."
   ]
  },
  {
   "cell_type": "markdown",
   "metadata": {},
   "source": [
    "__Ejemplo de Violación de los Principios DRY y KISS__"
   ]
  },
  {
   "cell_type": "markdown",
   "metadata": {},
   "source": [
    " En este ejemplo, se viola el principio DRY al repetir el cálculo en diferentes funciones de manera similar, y también se viola KISS, ya que el código contiene detalles innecesarios y complejidad redundante."
   ]
  },
  {
   "cell_type": "code",
   "execution_count": 9,
   "metadata": {},
   "outputs": [
    {
     "name": "stdout",
     "output_type": "stream",
     "text": [
      "Área del rectángulo: 50\n",
      "Perímetro del rectángulo: 30\n",
      "Área del triángulo: 25.0\n",
      "Perímetro del triángulo: 12\n",
      "Área del círculo: 153.93804002589985\n",
      "Circunferencia del círculo: 43.982297150257104\n"
     ]
    }
   ],
   "source": [
    "import math\n",
    "\n",
    "def rectangle_area(width, height):\n",
    "    return width * height\n",
    "\n",
    "def rectangle_perimeter(width, height):\n",
    "    return 2 * width + 2 * height\n",
    "\n",
    "def triangle_area(base, height):\n",
    "    return 0.5 * base * height\n",
    "\n",
    "def triangle_perimeter(side1, side2, side3):\n",
    "    return side1 + side2 + side3\n",
    "\n",
    "def circle_area(radius):\n",
    "    return math.pi * radius ** 2\n",
    "\n",
    "def circle_circumference(radius):\n",
    "    return 2 * math.pi * radius\n",
    "\n",
    "# Código que usa estas funciones para cada forma por separado\n",
    "width, height = 5, 10\n",
    "print(\"Área del rectángulo:\", rectangle_area(width, height))\n",
    "print(\"Perímetro del rectángulo:\", rectangle_perimeter(width, height))\n",
    "\n",
    "base, height, side1, side2, side3 = 5, 10, 3, 4, 5\n",
    "print(\"Área del triángulo:\", triangle_area(base, height))\n",
    "print(\"Perímetro del triángulo:\", triangle_perimeter(side1, side2, side3))\n",
    "\n",
    "radius = 7\n",
    "print(\"Área del círculo:\", circle_area(radius))\n",
    "print(\"Circunferencia del círculo:\", circle_circumference(radius))\n"
   ]
  },
  {
   "cell_type": "markdown",
   "metadata": {},
   "source": [
    "__Refactorización para Adherirse a los Principios DRY y KISS__"
   ]
  },
  {
   "cell_type": "markdown",
   "metadata": {},
   "source": [
    "Podemos refactorizar este código creando una clase Shape general y subclases específicas para cada tipo de forma, encapsulando las propiedades y métodos. Esto reducirá la duplicación y simplificará la estructura del código."
   ]
  },
  {
   "cell_type": "code",
   "execution_count": 10,
   "metadata": {},
   "outputs": [
    {
     "name": "stdout",
     "output_type": "stream",
     "text": [
      "Área del rectángulo: 50\n",
      "Perímetro del rectángulo: 30\n",
      "Área del triángulo: 25.0\n",
      "Perímetro del triángulo: 12\n",
      "Área del círculo: 153.93804002589985\n",
      "Circunferencia del círculo: 43.982297150257104\n"
     ]
    }
   ],
   "source": [
    "import math\n",
    "from abc import ABC, abstractmethod\n",
    "\n",
    "# Clase base abstracta para formas\n",
    "class Shape(ABC):\n",
    "    @abstractmethod\n",
    "    def area(self):\n",
    "        pass\n",
    "\n",
    "    @abstractmethod\n",
    "    def perimeter(self):\n",
    "        pass\n",
    "\n",
    "# Clase Rectángulo\n",
    "class Rectangle(Shape):\n",
    "    def __init__(self, width, height):\n",
    "        self.width = width\n",
    "        self.height = height\n",
    "\n",
    "    def area(self):\n",
    "        return self.width * self.height\n",
    "\n",
    "    def perimeter(self):\n",
    "        return 2 * (self.width + self.height)\n",
    "\n",
    "# Clase Triángulo\n",
    "class Triangle(Shape):\n",
    "    def __init__(self, side1, side2, side3, height):\n",
    "        self.side1 = side1\n",
    "        self.side2 = side2\n",
    "        self.side3 = side3\n",
    "        self.height = height\n",
    "\n",
    "    def area(self):\n",
    "        return 0.5 * self.side1 * self.height\n",
    "\n",
    "    def perimeter(self):\n",
    "        return self.side1 + self.side2 + self.side3\n",
    "\n",
    "# Clase Círculo\n",
    "class Circle(Shape):\n",
    "    def __init__(self, radius):\n",
    "        self.radius = radius\n",
    "\n",
    "    def area(self):\n",
    "        return math.pi * self.radius ** 2\n",
    "\n",
    "    def perimeter(self):\n",
    "        return 2 * math.pi * self.radius\n",
    "\n",
    "# Ejemplo de uso\n",
    "rectangle = Rectangle(5, 10)\n",
    "print(\"Área del rectángulo:\", rectangle.area())\n",
    "print(\"Perímetro del rectángulo:\", rectangle.perimeter())\n",
    "\n",
    "triangle = Triangle(5, 4, 3, 10)\n",
    "print(\"Área del triángulo:\", triangle.area())\n",
    "print(\"Perímetro del triángulo:\", triangle.perimeter())\n",
    "\n",
    "circle = Circle(7)\n",
    "print(\"Área del círculo:\", circle.area())\n",
    "print(\"Circunferencia del círculo:\", circle.perimeter())\n"
   ]
  },
  {
   "cell_type": "markdown",
   "metadata": {},
   "source": [
    "DRY: El código ahora evita la duplicación, ya que cada forma tiene su propia clase con métodos area y perimeter específicos, encapsulando sus cálculos sin duplicarlos en funciones separadas.\n",
    "\n",
    "KISS: Se ha simplificado la estructura del código al encapsular las operaciones y propiedades dentro de clases dedicadas. Esto hace que el código sea más fácil de entender y extender si se añaden nuevas formas.\n",
    "\n",
    "Este diseño modular es fácil de mantener y permite agregar nuevas formas sin modificar el código existente, simplemente creando una nueva subclase de Shape."
   ]
  },
  {
   "cell_type": "markdown",
   "metadata": {},
   "source": [
    "__Pregunta 5(1 Punto):__\n",
    "\n",
    "El patrón de diseño \"Observer\" permite que un objeto notifique a otros objetos sobre los cambios en su estado. Describa una situación en el contexto de la ingeniería matemática donde este patrón sería útil. Implemente un ejemplo simple de este patrón en Python para ilustrar su respuesta."
   ]
  },
  {
   "cell_type": "markdown",
   "metadata": {},
   "source": [
    "El patrón de diseño Observer permite que un objeto (llamado \"sujeto\") notifique automáticamente a otros objetos (\"observadores\") cuando cambia su estado. Esto es especialmente útil cuando tenemos un sistema donde varias partes dependen del mismo dato y deben actualizarse al cambiar."
   ]
  },
  {
   "cell_type": "markdown",
   "metadata": {},
   "source": [
    "__Situación Relevante en Ingeniería Matemática__"
   ]
  },
  {
   "cell_type": "markdown",
   "metadata": {},
   "source": [
    "En ingeniería matemática, el patrón Observer puede ser útil en sistemas de simulación de fenómenos físicos donde varios módulos requieren actualizaciones en tiempo real. Por ejemplo, en una simulación de una reacción química, donde la temperatura y la presión cambian constantemente, podríamos tener:\n",
    "\n",
    "Visualización de temperatura para mostrar los cambios en gráficos.\n",
    "\n",
    "Registro de datos para almacenar valores en una base de datos.\n",
    "\n",
    "Alertas de seguridad que se disparen si la temperatura o presión sobrepasan ciertos límites.\n",
    "\n",
    "Al aplicar el patrón Observer, podemos hacer que estos módulos se actualicen automáticamente cada vez que cambian los valores de temperatura o presión, sin modificar la clase principal que maneja el estado."
   ]
  },
  {
   "cell_type": "markdown",
   "metadata": {},
   "source": [
    "__Implementación del Patrón Observer__"
   ]
  },
  {
   "cell_type": "markdown",
   "metadata": {},
   "source": [
    "En el siguiente ejemplo, implementamos una clase TemperatureSensor como el sujeto, que notifica a sus observadores (TemperatureDisplay y TemperatureLogger) cada vez que cambia la temperatura."
   ]
  },
  {
   "cell_type": "code",
   "execution_count": null,
   "metadata": {},
   "outputs": [],
   "source": [
    "from abc import ABC, abstractmethod\n",
    "\n",
    "# Interfaz de observador\n",
    "class Observer(ABC):\n",
    "    @abstractmethod\n",
    "    def update(self, temperature):\n",
    "        pass\n",
    "\n",
    "# Clase sujeto\n",
    "class TemperatureSensor:\n",
    "    def __init__(self):\n",
    "        self._observers = []\n",
    "        self._temperature = None\n",
    "\n",
    "    def add_observer(self, observer):\n",
    "        self._observers.append(observer)\n",
    "\n",
    "    def remove_observer(self, observer):\n",
    "        self._observers.remove(observer)\n",
    "\n",
    "    def set_temperature(self, temperature):\n",
    "        self._temperature = temperature\n",
    "        self.notify_observers()\n",
    "\n",
    "    def notify_observers(self):\n",
    "        for observer in self._observers:\n",
    "            observer.update(self._temperature)\n",
    "\n",
    "# Observador: Muestra de temperatura\n",
    "class TemperatureDisplay(Observer):\n",
    "    def update(self, temperature):\n",
    "        print(f\"Display: La temperatura actual es {temperature}°C\")\n",
    "\n",
    "# Observador: Registro de temperatura\n",
    "class TemperatureLogger(Observer):\n",
    "    def update(self, temperature):\n",
    "        print(f\"Logger: Registrando temperatura de {temperature}°C en el sistema\")\n",
    "\n",
    "# Uso del patrón Observer\n",
    "sensor = TemperatureSensor()\n",
    "display = TemperatureDisplay()\n",
    "logger = TemperatureLogger()\n",
    "\n",
    "# Se añaden los observadores al sensor\n",
    "sensor.add_observer(display)\n",
    "sensor.add_observer(logger)\n",
    "\n",
    "# Simulación de cambios de temperatura\n",
    "sensor.set_temperature(25)\n",
    "sensor.set_temperature(30)\n",
    "sensor.set_temperature(28)\n"
   ]
  },
  {
   "cell_type": "markdown",
   "metadata": {},
   "source": [
    "Interfaz de Observador: La clase Observer define el método update, que será implementado por todas las clases observadoras para recibir notificaciones.\n",
    "\n",
    "Clase Sujeto (TemperatureSensor): Esta clase mantiene una lista de observadores y notifica a todos cuando cambia el valor de temperatura. Los métodos add_observer y remove_observer permiten agregar o quitar observadores dinámicamente.\n",
    "\n",
    "Observadores Concretos: TemperatureDisplay y TemperatureLogger son observadores que implementan el método update de manera específica, con acciones para mostrar la temperatura o registrar su valor.\n",
    "\n",
    "Simulación de Uso: Cuando set_temperature es llamado en el objeto sensor, se notifica automáticamente a display y logger, que actúan en función del nuevo valor de temperatura."
   ]
  },
  {
   "cell_type": "markdown",
   "metadata": {},
   "source": [
    "__Pregunta Práctica 1: Refactorización de código con Principios SOLID (2,5 Puntos)__\n",
    "\n",
    "Se le proporciona un fragmento de código Python que maneja diferentes tipos de formas geométricas. Actualmente, el código viola el Principio de Responsabilidad Única (SRP) y el Principio Abierto/Cerrado (OCP) de SOLID. Su tarea es refactorizar este código para que se adhiera a estos principios."
   ]
  },
  {
   "cell_type": "code",
   "execution_count": null,
   "metadata": {},
   "outputs": [],
   "source": [
    "class Shape:\n",
    "    def __init__(self, type):\n",
    "        self.type = type\n",
    "\n",
    "class AreaCalculator:\n",
    "    def __init__(self, shapes):\n",
    "        self.shapes = shapes\n",
    "\n",
    "    def total_area(self):\n",
    "        total = 0\n",
    "        for shape in self.shapes:\n",
    "            if shape.type == \"circle\":\n",
    "                radius = 1.0  # Supongamos que el radio es siempre 1 para este ejemplo\n",
    "                total += 3.14159 * radius * radius\n",
    "            elif shape.type == \"square\":\n",
    "                side = 1.0  # Supongamos que el lado es siempre 1 para este ejemplo\n",
    "                total += side * side\n",
    "        return total\n",
    "\n",
    "shapes = [Shape(\"circle\"), Shape(\"square\")]\n",
    "calculator = AreaCalculator(shapes)\n",
    "print(calculator.total_area())"
   ]
  },
  {
   "cell_type": "markdown",
   "metadata": {},
   "source": [
    "Para refactorizar el código y alinearlo con los principios SRP (Principio de Responsabilidad Única) y OCP (Principio Abierto/Cerrado), comencemos por identificar las violaciones:\n",
    "\n",
    "Violación del Principio de Responsabilidad Única (SRP) :\n",
    "\n",
    "La clase __AreaCalculator__ tiene la responsabilidad de calcular el área y, al mismo tiempo, de conocer los detalles específicos de cada tipo de forma. Esto es una violación del SRP, ya que AreaCalculatorno debería preocuparse por cómo calcular el área de cada tipo de forma.\n",
    "\n",
    "Violación del Principio Abierto/Cerrado (OCP) :\n",
    "\n",
    "La clase __AreaCalculator__ también viola el OCP, ya que requiere modificación cada vez que se agrega un nuevo tipo de forma. Para adherirse al OCP, AreaCalculatordebe ser extensible sin necesidad de cambiar su código cada vez que se añade una nueva forma."
   ]
  },
  {
   "cell_type": "markdown",
   "metadata": {},
   "source": [
    "__Refactorización del códgo__"
   ]
  },
  {
   "cell_type": "code",
   "execution_count": null,
   "metadata": {},
   "outputs": [],
   "source": [
    "from abc import ABC, abstractmethod\n",
    "\n",
    "# Clase abstracta Shape que sigue el Principio de Responsabilidad Única\n",
    "class Shape(ABC):\n",
    "    @abstractmethod\n",
    "    def area(self):\n",
    "        pass\n",
    "\n",
    "# Clase Círculo que implementa el cálculo de su propia área\n",
    "class Circle(Shape):\n",
    "    def __init__(self, radius):\n",
    "        self.radius = radius\n",
    "\n",
    "    def area(self):\n",
    "        return 3.14159 * self.radius * self.radius\n",
    "\n",
    "# Clase Cuadrado que implementa el cálculo de su propia área\n",
    "class Square(Shape):\n",
    "    def __init__(self, side):\n",
    "        self.side = side\n",
    "\n",
    "    def area(self):\n",
    "        return self.side * self.side\n",
    "\n",
    "# Clase AreaCalculator que solo se encarga de sumar las áreas, adheriéndose a SRP y OCP\n",
    "class AreaCalculator:\n",
    "    def __init__(self, shapes):\n",
    "        self.shapes = shapes\n",
    "\n",
    "    def total_area(self):\n",
    "        return sum(shape.area() for shape in self.shapes)\n",
    "\n",
    "# Uso de las clases refactorizadas\n",
    "shapes = [Circle(1.0), Square(1.0)]\n",
    "calculator = AreaCalculator(shapes)\n",
    "print(calculator.total_area())\n"
   ]
  },
  {
   "cell_type": "markdown",
   "metadata": {},
   "source": [
    "Principio de Responsabilidad Única (SRP) :\n",
    "\n",
    "Ahora, cada clase de forma ( Circley Square) es responsable de calcular su propia área, cumpliendo así con SRP. La clase AreaCalculatorsimplemente suma las áreas, sin tener que conocer los detalles específicos de cada tipo de forma.\n",
    "\n",
    "Principio Abierto/Cerrado (OCP) :\n",
    "\n",
    "La clase __AreaCalculator__ cumple ahora con el OCP, ya que no necesita ser modificada para soportar nuevas formas. Si se desea agregar una nueva forma, como un Rectangle, basta con crear una nueva clase que implemente Shapey defina su método area(), y luego agregarla a la lista de formas en AreaCalculator."
   ]
  },
  {
   "cell_type": "markdown",
   "metadata": {},
   "source": [
    "Si quisiéramos agregar un Rectangle, simplemente agregaríamos:"
   ]
  },
  {
   "cell_type": "code",
   "execution_count": null,
   "metadata": {},
   "outputs": [],
   "source": [
    "class Rectangle(Shape):\n",
    "    def __init__(self, width, height):\n",
    "        self.width = width\n",
    "        self.height = height\n",
    "\n",
    "    def area(self):\n",
    "        return self.width * self.height\n",
    "\n",
    "# Uso con el nuevo tipo de forma\n",
    "shapes = [Circle(1.0), Square(1.0), Rectangle(2.0, 3.0)]\n",
    "calculator = AreaCalculator(shapes)\n",
    "print(calculator.total_area())\n"
   ]
  },
  {
   "cell_type": "markdown",
   "metadata": {},
   "source": [
    "__Pregunta Práctica 2: Implementación de Patrón de Diseño Estrategia (2,5 Puntos)__\n",
    "\n",
    "En ingeniería matemática, es común que necesitemos intercambiar diferentes algoritmos dependiendo de la situación. Considere una aplicación que debe realizar la integración numérica de una función. Hay diferentes métodos para realizar esta integración, como el método del trapecio, el método de Simpson, la cuadratura gaussiana, entre otros.\n",
    "\n",
    "Se le pide que implemente este escenario utilizando el patrón de diseño estrategia. Debe proporcionar una estructura que permita cambiar fácilmente el método de integración. Incluya al menos dos métodos específicos (por ejemplo, Trapecio y Simpson) y demuestre cómo se podrían cambiar estos métodos en tiempo de ejecución."
   ]
  },
  {
   "cell_type": "markdown",
   "metadata": {},
   "source": [
    "El patrón de diseño Estrategia es útil cuando necesitamos intercambiar algoritmos en tiempo de ejecución, en este caso, diferentes métodos de integración numérica. Este patrón permite definir una familia de algoritmos (en este caso, métodos de integración), encapsularlos en clases separadas y hacerlos intercambiables, logrando un sistema extensible sin modificar el código principal."
   ]
  },
  {
   "cell_type": "markdown",
   "metadata": {},
   "source": [
    "__Explicación del problema__\n",
    "\n",
    "Imaginemos que necesitamos integrar funciones en diferentes situaciones, y el método óptimo depende de la precisión o velocidad deseada. Con el patrón Estrategia, el método de integración se puede cambiar fácilmente sin alterar el resto de la aplicación."
   ]
  },
  {
   "cell_type": "markdown",
   "metadata": {},
   "source": [
    "__Implementación del Patrón Estrategia__"
   ]
  },
  {
   "cell_type": "markdown",
   "metadata": {},
   "source": [
    "Paso 1: Definir la interfaz de la estrategia\n",
    "\n",
    "Primero, definimos una interfaz IntegrationStrategyque será implementada por cada método de integración."
   ]
  },
  {
   "cell_type": "code",
   "execution_count": null,
   "metadata": {},
   "outputs": [],
   "source": [
    "from abc import ABC, abstractmethod\n",
    "import numpy as np\n",
    "\n",
    "# Interfaz de estrategia para métodos de integración\n",
    "class IntegrationStrategy(ABC):\n",
    "    @abstractmethod\n",
    "    def integrate(self, func, a, b, n):\n",
    "        pass\n"
   ]
  },
  {
   "cell_type": "markdown",
   "metadata": {},
   "source": [
    "Paso 2: Implementar las estrategias específicas (Trapecio y Simpson)\n",
    "\n",
    "Cada método de integración implementará la interfaz IntegrationStrategy."
   ]
  },
  {
   "cell_type": "code",
   "execution_count": null,
   "metadata": {},
   "outputs": [],
   "source": [
    "# Estrategia: Método del Trapecio\n",
    "class TrapezoidalRule(IntegrationStrategy):\n",
    "    def integrate(self, func, a, b, n):\n",
    "        h = (b - a) / n\n",
    "        total = 0.5 * (func(a) + func(b))\n",
    "        for i in range(1, n):\n",
    "            total += func(a + i * h)\n",
    "        return total * h\n",
    "\n",
    "# Estrategia: Método de Simpson\n",
    "class SimpsonRule(IntegrationStrategy):\n",
    "    def integrate(self, func, a, b, n):\n",
    "        if n % 2 == 1:\n",
    "            n += 1  # Simpson requiere un número par de intervalos\n",
    "        h = (b - a) / n\n",
    "        total = func(a) + func(b)\n",
    "        for i in range(1, n):\n",
    "            if i % 2 == 0:\n",
    "                total += 2 * func(a + i * h)\n",
    "            else:\n",
    "                total += 4 * func(a + i * h)\n",
    "        return total * h / 3\n"
   ]
  },
  {
   "cell_type": "markdown",
   "metadata": {},
   "source": [
    "Paso 3: Crea una clase Integratorque use las estrategias\n",
    "\n",
    "Esta clase Integratorpermitirá establecer la estrategia de integración en tiempo de ejecución y calcular el área usando el método deseado."
   ]
  },
  {
   "cell_type": "code",
   "execution_count": null,
   "metadata": {},
   "outputs": [],
   "source": [
    "# Clase Integrador que usa la estrategia\n",
    "class Integrator:\n",
    "    def __init__(self, strategy: IntegrationStrategy):\n",
    "        self._strategy = strategy\n",
    "\n",
    "    def set_strategy(self, strategy: IntegrationStrategy):\n",
    "        self._strategy = strategy\n",
    "\n",
    "    def integrate(self, func, a, b, n):\n",
    "        return self._strategy.integrate(func, a, b, n)\n"
   ]
  },
  {
   "cell_type": "markdown",
   "metadata": {},
   "source": [
    "Ejemplo de Uso y Cambio de Estrategia en Tiempo de Ejecución"
   ]
  },
  {
   "cell_type": "code",
   "execution_count": null,
   "metadata": {},
   "outputs": [],
   "source": [
    "# Definimos una función a integrar, por ejemplo f(x) = x^2\n",
    "def function(x):\n",
    "    return x ** 2\n",
    "\n",
    "# Intervalo de integración y número de subdivisiones\n",
    "a, b = 0, 1  # Integrar de 0 a 1\n",
    "n = 100\n",
    "\n",
    "# Usando el método del trapecio\n",
    "trapecio = TrapezoidalRule()\n",
    "integrador = Integrator(trapecio)\n",
    "resultado_trapecio = integrador.integrate(function, a, b, n)\n",
    "print(f\"Resultado con método del trapecio: {resultado_trapecio}\")\n",
    "\n",
    "# Cambiando al método de Simpson en tiempo de ejecución\n",
    "simpson = SimpsonRule()\n",
    "integrador.set_strategy(simpson)\n",
    "resultado_simpson = integrador.integrate(function, a, b, n)\n",
    "print(f\"Resultado con método de Simpson: {resultado_simpson}\")\n"
   ]
  },
  {
   "cell_type": "markdown",
   "metadata": {},
   "source": [
    "Definición de Estrategias : TrapezoidalRulee SimpsonRuleimplementan la interfaz IntegrationStrategy, cada uno definiendo su propio método integrate.\n",
    "\n",
    "ClaseIntegrator : Esta clase permite cambiar el método de integración (estrategia) en tiempo de ejecución mediante set_strategy.\n",
    "\n",
    "Demostración de Cambio de Estrategia : inicialmente, Integratorutiliza el método del trapecio, pero luego cambia al método de Simpson, sin necesidad de alterar la estructura principal.\n"
   ]
  }
 ],
 "metadata": {
  "kernelspec": {
   "display_name": "Python 3",
   "language": "python",
   "name": "python3"
  },
  "language_info": {
   "codemirror_mode": {
    "name": "ipython",
    "version": 3
   },
   "file_extension": ".py",
   "mimetype": "text/x-python",
   "name": "python",
   "nbconvert_exporter": "python",
   "pygments_lexer": "ipython3",
   "version": "3.12.6"
  }
 },
 "nbformat": 4,
 "nbformat_minor": 2
}
